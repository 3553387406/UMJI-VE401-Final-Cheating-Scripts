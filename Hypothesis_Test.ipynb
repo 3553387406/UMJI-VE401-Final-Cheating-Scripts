{
 "cells": [
  {
   "cell_type": "code",
   "execution_count": 3,
   "metadata": {},
   "outputs": [],
   "source": [
    "import numpy as np\n",
    "import matplotlib.pyplot as plt\n",
    "from IPython.core.pylabtools import figsize # import figsize\n",
    "#figsize(12.5, 4) # 设置 figsize\n",
    "from scipy.stats import chi2\n",
    "from scipy.stats import t\n",
    "from scipy.stats import f\n",
    "from scipy.stats import norm"
   ]
  },
  {
   "source": [
    "# Distributions and Fisher Tests\n",
    "\n",
    "## Normal Distribution\n",
    "\n",
    "![](norm.png)\n",
    "\n",
    "## Chi2 Distribution\n",
    "![](chi2.png)\n",
    "\n",
    "![](chi2_test.png)\n",
    "\n",
    "## T Distribution\n",
    "![](T_0.png)\n",
    "\n",
    "![](T_1.png)\n",
    "\n",
    "![](T_test.png)\n",
    "\n",
    "## F Distribution\n",
    "![](F_0.png)\n",
    "\n",
    "![](F_1.png)\n",
    "\n",
    "![](F_test.png)"
   ],
   "cell_type": "markdown",
   "metadata": {}
  },
  {
   "cell_type": "code",
   "execution_count": 19,
   "metadata": {},
   "outputs": [],
   "source": [
    "# chi square distribution\n",
    "#percents = [0.995, 0.990, 0.975, 0.950, 0.900, 0.100, 0.050, 0.025, 0.010, 0.005]\n",
    "#print(np.array([chi2.isf(percents, df=i) for i in range(1, 47)]))\n",
    "# t distribution\n",
    "#percents = [0.100, 0.050, 0.025, 0.010, 0.005, 0.001, 0.0005]\n",
    "#print(np.array([t.isf(percents, df=i) for i in range(1, 46)]))\n",
    "# F distribution\n",
    "#alpha = 0.2\n",
    "#print(np.array([f.isf(alpha, df1, df2) for df1 in range(1, 11) for df2 in range(1, 16)]).reshape(10, -1).T)\n",
    "# normal distribution\n",
    "#print(norm.ppf(np.arange(0, 0.99, 0.001).reshape(-1, 10)))\n",
    "\n",
    "def statistic(x):\n",
    "    print(x)\n",
    "    x = np.array(x).reshape(-1,1)\n",
    "    mean = x.mean()\n",
    "    n = x.shape[0]\n",
    "    s = np.sqrt(np.sum((x-x.mean())**2)/(n-1))\n",
    "    s_square = s**2\n",
    "    cache =  { 'n':n\n",
    "             , 'mean':mean\n",
    "             , 's_square':s_square\n",
    "             , 's':s\n",
    "             \n",
    "             }\n",
    "    print(cache)\n",
    "    return cache"
   ]
  },
  {
   "cell_type": "code",
   "execution_count": 21,
   "metadata": {},
   "outputs": [
    {
     "output_type": "stream",
     "name": "stdout",
     "text": [
      "[708, 732, 731, 677, 748, 702, 696, 692, 716, 729, 697, 681, 704, 740, 710, 687, 731, 704, 702, 698]\n{'n': 20, 'mean': 709.25, 's_square': 399.5657894736842, 's': 19.98914178932363}\n"
     ]
    }
   ],
   "source": [
    "x = [708, 732, 731, 677, 748, 702, 696, 692, 716, 729,697, 681, 704, 740, 710, 687, 731, 704, 702, 698]\n",
    "x_dict = statistic(x)"
   ]
  },
  {
   "source": [
    "# normal distribution\n",
    "# norm.ppf(percent)\n",
    "\n",
    "# chi square distribution\n",
    "# chi2.isf(percent,df)\n",
    "\n",
    "# T distribution\n",
    "# t.isf(percent, df)\n",
    "\n",
    "# F distribution\n",
    "# f.isf(alpha,df1,df2)"
   ],
   "cell_type": "code",
   "metadata": {},
   "execution_count": null,
   "outputs": []
  },
  {
   "source": [
    "# Confidences for Different Estimators\n",
    "## Confidence for Mean\n",
    "![](mu_confidence.png)\n",
    "\n",
    "## Confidence for Variance\n",
    "![](sigma_square_confidence.png)"
   ],
   "cell_type": "markdown",
   "metadata": {}
  },
  {
   "source": [
    "# Non-Paramatic Test\n",
    "\n",
    "## Sign Test\n",
    "\n",
    "![](sign_test.png)\n",
    "\n",
    "# Wilcoxon Signed Rank Test\n",
    "\n",
    "![](wilcoxon_test_0.png)\n",
    "\n",
    "![](wilcoxon_test_1.png)"
   ],
   "cell_type": "markdown",
   "metadata": {}
  },
  {
   "source": [
    "# Pooled Tests: Comparing Means\n",
    "\n",
    "## Comparing Means with Known Variance\n",
    "\n",
    "![](mean_comparison_known_var_0.png)\n",
    "\n",
    "![](mean_comparison_known_var_1.png)\n",
    "\n",
    "## Comparing Means with Equal Variance: Student-T Test\n",
    "\n",
    "![](mean_comparison_equal_var_0.png)\n",
    "\n",
    "![](mean_comparison_equal_var_1.png)\n",
    "\n",
    "![](mean_comparison_equal_var_2.png)\n",
    "\n",
    "## Comparing Means with Unequal Variance: Welch-Satterthwaite Approximation\n",
    "\n",
    "![](mean_comparison_unequal_var_0.png)\n",
    "\n",
    "![](mean_comparison_unequal_var_1.png)"
   ],
   "cell_type": "markdown",
   "metadata": {}
  },
  {
   "source": [
    "# Paired Test: Comparing Means\n",
    "\n",
    "## Wilcoxon Rank-Sum Test\n",
    "![](paired_wilcoxon_0.png)\n",
    "\n",
    "![](paired_wilcoxon_1.png)\n",
    "\n",
    "### Example:\n",
    "![](paired_wilcoxon_2.png)\n",
    "\n",
    "![](paired_wilcoxon_3.png)\n",
    "\n",
    "## Paired-T Test:\n",
    "# D = X - Y\n",
    "![](paired_T_test.png)"
   ],
   "cell_type": "markdown",
   "metadata": {}
  },
  {
   "source": [
    "# Chi2 Goodness Fit\n",
    "\n",
    "## 1D\n",
    "![](chi2_goodness_fit_0.png)\n",
    "![](chi2_goodness_fit_1.png)\n",
    "\n",
    "### Example: Poisson Distribution\n",
    "![](chi2_goodness_fit_2.png)\n",
    "\n",
    "## 2D\n",
    "![](chi2_goodness_fit_2.png)"
   ],
   "cell_type": "markdown",
   "metadata": {}
  }
 ],
 "metadata": {
  "kernelspec": {
   "name": "python385jvsc74a57bd08ac46050c0abbc1dd3d6e733793c70f5567ad870efb041f174cf3c1a182e06cf",
   "display_name": "Python 3.8.5 64-bit (conda)"
  },
  "language_info": {
   "codemirror_mode": {
    "name": "ipython",
    "version": 3
   },
   "file_extension": ".py",
   "mimetype": "text/x-python",
   "name": "python",
   "nbconvert_exporter": "python",
   "pygments_lexer": "ipython3",
   "version": "3.8.5-final"
  }
 },
 "nbformat": 4,
 "nbformat_minor": 4
}